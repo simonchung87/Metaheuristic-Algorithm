{
  "nbformat": 4,
  "nbformat_minor": 0,
  "metadata": {
    "colab": {
      "name": "PSO for Ackley function.ipynb",
      "provenance": [],
      "collapsed_sections": []
    },
    "kernelspec": {
      "name": "python3",
      "display_name": "Python 3"
    }
  },
  "cells": [
    {
      "cell_type": "code",
      "metadata": {
        "id": "j9iv4ikPpfAM"
      },
      "source": [
        "import math\n",
        "import random\n",
        "import numpy as np\n",
        "import pandas as pd\n",
        "def evaluate(x): ##計算ackley fuction的值\n",
        "  return -20 * math.exp(-0.2*np.sqrt(np.mean(np.square(x))))-math.exp(np.mean(np.cos(2*np.pi*x)))+20+np.exp(1)"
      ],
      "execution_count": null,
      "outputs": []
    },
    {
      "cell_type": "code",
      "metadata": {
        "id": "obE4HhZFsD35"
      },
      "source": [
        "p_num = 64  ##粒子個數\n",
        "max_iteration = 10 ##迭代次數\n",
        "max_run = 30\n",
        "w = 0.5\n",
        "c1 = 2\n",
        "c2 = 2\n",
        "upper_bound = 32.768  ##上下界\n",
        "lower_bound = -32.768\n",
        "record = np.zeros((max_run, max_iteration), dtype='float')\n",
        "for l in range(max_run):\n",
        "\n",
        "\n",
        "  \n",
        "  x = np.random.uniform(low = lower_bound, high = upper_bound, size = (3,p_num))  ##初始化隨機生成座標\n",
        "  y = [evaluate(x[:,i]) for i in range(p_num)]  ##計算每個粒子的好壞\n",
        "  x[2,:] = y\n",
        "  V = np.zeros((2,p_num))\n",
        "  Pb = np.concatenate((np.zeros((2,p_num)), -np.log(np.zeros((1,p_num)))))  ##初始化每個粒子最好的位置\n",
        "  Gb = np.array([0,0,np.Inf])  ##紀錄所有粒子經歷過最好的位置\n",
        "\n",
        "\n",
        "  \n",
        "  for i in range(max_iteration):\n",
        "    for j in range(p_num):\n",
        "      if Pb[2,j] > x[2,j]:\n",
        "        Pb[:,j] = x[:,j]\n",
        "    if Gb[2] > min(Pb[2,:]): \n",
        "      Gb = Pb[:, np.argmin(Pb[2,:])]\n",
        "    for j in range(p_num):\n",
        "      for k in range(2):\n",
        "        V[k,j] = w * V[k,j] + c1 * random.uniform(0,1) * (Pb[k,j] - x[k,j]) + c2 * random.uniform(0,1) * (Gb[k] - x[k,j])  ##計算速度\n",
        "        x[k,j] += V[k,j]  ##更新位置\n",
        "        if x[k,j] > upper_bound:  ##若超過上下界，則放在邊界\n",
        "          x[k,j] = upper_bound\n",
        "        elif x[k,j] < lower_bound:\n",
        "          x[k,j] = lower_bound\n",
        "      x[2,j] = evaluate(x[0:2,j])\n",
        "    if i == (max_iteration-1):  ##最後一次更新\n",
        "      for j in range(p_num):\n",
        "        if Pb[2,j] > x[2,j]:\n",
        "          Pb[:,j] = x[:,j]\n",
        "      if Gb[2] > min(Pb[2,:]): \n",
        "        Gb = Pb[:, np.argmin(Pb[2,:])]\n",
        "    record[l,i] = Gb[2]\n",
        "    print(i,Gb)"
      ],
      "execution_count": null,
      "outputs": []
    },
    {
      "cell_type": "code",
      "metadata": {
        "id": "aWJCqGvj5TU6",
        "colab": {
          "base_uri": "https://localhost:8080/",
          "height": 313
        },
        "outputId": "71b698bc-b79a-433d-fbce-286ad861f5a9"
      },
      "source": [
        "import matplotlib.pyplot as plt\n",
        "average_record = np.mean(record, axis = 0) ##取30次平均\n",
        "plt.title('PSO convergence')\n",
        "plt.xlabel('iteration')\n",
        "plt.ylabel('f(x)')\n",
        "plt.plot(range(max_iteration), average_record, '-') ##畫出收斂圖"
      ],
      "execution_count": null,
      "outputs": [
        {
          "output_type": "execute_result",
          "data": {
            "text/plain": [
              "[<matplotlib.lines.Line2D at 0x7fc11840c5c0>]"
            ]
          },
          "metadata": {
            "tags": []
          },
          "execution_count": 20
        },
        {
          "output_type": "display_data",
          "data": {
            "image/png": "[encoded data removed]",
            "text/plain": [
              "<Figure size 432x288 with 1 Axes>"
            ]
          },
          "metadata": {
            "tags": [],
            "needs_background": "light"
          }
        }
      ]
    }
  ]
}