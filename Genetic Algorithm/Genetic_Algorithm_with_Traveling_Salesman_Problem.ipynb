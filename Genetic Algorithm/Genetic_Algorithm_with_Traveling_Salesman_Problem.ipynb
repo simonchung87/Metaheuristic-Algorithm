{
  "nbformat": 4,
  "nbformat_minor": 0,
  "metadata": {
    "colab": {
      "name": "Genetic Algorithm with Traveling Salesman Problem.ipynb",
      "provenance": []
    },
    "kernelspec": {
      "display_name": "Python 3",
      "name": "python3"
    }
  },
  "cells": [
    {
      "cell_type": "code",
      "metadata": {
        "id": "aZqBrB4T_AH0"
      },
      "source": [
        "import numpy as np\n",
        "distance  = np.zeros((51,51))\n",
        "coordinate = open(r'/content/drive/My Drive/Colab Notebooks/cities_coordinate.txt')  ##讀取位置信息\n",
        "cities_coordinate = []\n",
        "for line in coordinate:\n",
        "  city_nuber, city_x, city_y =  line.split(\" \")\n",
        "  cities_coordinate.append([int(city_x), int(city_y)])\n",
        "for i in range(len(cities_coordinate)):\n",
        "  for j in range(len(cities_coordinate)):\n",
        "    distance[i,j] = ((cities_coordinate[i][0]-cities_coordinate[j][0])**2+(cities_coordinate[i][1]-cities_coordinate[j][1])**2)**0.5 "
      ],
      "execution_count": null,
      "outputs": []
    },
    {
      "cell_type": "code",
      "metadata": {
        "id": "FxT90U7I7gM1"
      },
      "source": [
        "import math\n",
        "import random\n",
        "import numpy as np\n",
        "import matplotlib.pyplot as plt\n",
        "\n",
        "def getKey(dct,value):\n",
        "     return [key for key in dct if (dct[key] == value)][0]\n",
        "\n",
        "def get_fitness(vector):  \n",
        "  total_distance = 0 \n",
        "  for i in range(len(vector)-1):\n",
        "    total_distance += distance[vector[i], vector[i+1]]\n",
        "  return total_distance\n",
        "\n",
        "def mutate(vector, mutation_rate):  ##每一位數都有mutation_rate的機率變異\n",
        "  for i in range(len(vector)):\n",
        "    r = random.uniform(0,1)\n",
        "    if r < mutation_rate:\n",
        "      mutate_to = random.randint(0, len(vector)-1)\n",
        "      vector[i], vector[vector.index(mutate_to)] = mutate_to, vector[i]\n",
        "  return vector\n",
        "\n",
        "def crossover(parent_vector1, parent_vector2, mutation_rate, method = \"Partially\"):  ##結合兩個父母的染色體，拆的地方是隨機的\n",
        "  if method == \"Partially\":\n",
        "    temp = {}\n",
        "    parent_vector1, parent_vector2 = parent_vector1[:(len(parent_vector1)-1)], parent_vector2[:(len(parent_vector2)-1)]\n",
        "    start_index = random.randint(1, len(parent_vector1)-2)\n",
        "    end_index = random.randint(start_index+1, len(parent_vector1)-1)\n",
        "    for i in range(end_index-start_index+1):\n",
        "      if parent_vector1[i+start_index] in temp.values():\n",
        "        temp[getKey(temp, parent_vector1[i+start_index])] = parent_vector2[i+start_index]\n",
        "      else:\n",
        "        temp[parent_vector1[i+start_index]] = parent_vector2[i+start_index]\n",
        "    delete = []\n",
        "\n",
        "    for repeat in range(len(temp)):\n",
        "      for one in temp.values():\n",
        "        if one in temp:\n",
        "          temp[getKey(temp, one)] = temp[one]\n",
        "          delete.append(one)\n",
        "    for one in delete:\n",
        "      try:\n",
        "        del temp[one]\n",
        "      except:\n",
        "        continue\n",
        "\n",
        "    for j in range(start_index):\n",
        "      if parent_vector1[j] in temp.values():\n",
        "        parent_vector1[j] = getKey(temp, parent_vector1[j])\n",
        "      if parent_vector2[j] in temp:\n",
        "        parent_vector2[j] = temp[parent_vector2[j]]\n",
        "\n",
        "    for k in range(len(parent_vector1)-1-end_index):\n",
        "      if parent_vector1[k+end_index+1] in temp.values():\n",
        "        parent_vector1[k+end_index+1] = getKey(temp, parent_vector1[k+end_index+1])\n",
        "      if parent_vector2[k+end_index+1] in temp:\n",
        "        parent_vector2[k+end_index+1] = temp[parent_vector2[k+end_index+1]]\n",
        "\n",
        "    parent_vector1[start_index:(end_index+1)], parent_vector2[start_index:(end_index+1)] = parent_vector2[start_index:(end_index+1)], parent_vector1[start_index:(end_index+1)]\n",
        "    parent_vector1.append(parent_vector1[0])\n",
        "    parent_vector2.append(parent_vector2[0])\n",
        "    parent_vector1, parent_vector2 = mutate(parent_vector1, mutation_rate), mutate(parent_vector2, mutation_rate)\n",
        "    return [parent_vector1, parent_vector2]\n",
        "\n",
        "  if method == \"circle\":\n",
        "    parent_vector1, parent_vector2 = parent_vector1[:(len(parent_vector1)-1)], parent_vector2[:(len(parent_vector2)-1)]\n",
        "    start_index = random.randint(0, len(parent_vector1)-1)\n",
        "    point_record = [start_index]\n",
        "    point = parent_vector1.index(parent_vector2[start_index])\n",
        "    while point != start_index:\n",
        "      point_record.append(point)\n",
        "      point = parent_vector1.index(parent_vector2[point])\n",
        "    nonselection = [x for x in range(len(parent_vector1)) if x not in point_record]\n",
        "    for i in nonselection:\n",
        "      parent_vector1[i], parent_vector2[i] = parent_vector2[i], parent_vector1[i]\n",
        "    parent_vector1, parent_vector2 = mutate(parent_vector1, mutation_rate), mutate(parent_vector2, mutation_rate)\n",
        "    parent_vector1.append(parent_vector1[0])\n",
        "    parent_vector2.append(parent_vector2[0])\n",
        "    return [parent_vector1, parent_vector2]\n",
        "    \n",
        "  if method == \"order\":\n",
        "    parent_vector1, parent_vector2 = parent_vector1[:(len(parent_vector1)-1)], parent_vector2[:(len(parent_vector2)-1)]\n",
        "    start_index = random.randint(1, len(parent_vector1)-2)\n",
        "    end_index = random.randint(start_index+1, len(parent_vector1)-1)\n",
        "    unchange1 = parent_vector1[start_index:(end_index+1)]\n",
        "    unchange2 = parent_vector2[start_index:(end_index+1)]\n",
        "    change1 = []\n",
        "    change2 = []\n",
        "    for one in parent_vector2:\n",
        "      if one not in unchange1:\n",
        "        change1.append(one)\n",
        "\n",
        "    for one in parent_vector1:\n",
        "      if one not in unchange2:\n",
        "        change2.append(one)\n",
        "      \n",
        "    parent_vector1[:start_index], parent_vector2[:start_index] = change1[(-start_index):], change2[(-start_index):]\n",
        "    parent_vector1[(end_index+1):], parent_vector2[(end_index+1):] = change1[:(-start_index)], change2[:(-start_index)]\n",
        "    parent_vector1.append(parent_vector1[0])\n",
        "    parent_vector2.append(parent_vector2[0])\n",
        "    parent_vector1, parent_vector2 = mutate(parent_vector1, mutation_rate), mutate(parent_vector2, mutation_rate)\n",
        "    return [parent_vector1, parent_vector2]\n",
        "\n",
        "def select(population, crossover_rate, method = \"Tournament\"):  ##根據Roulette wheel selection或者Tournament selection的方法選擇可以繁衍的染色體\n",
        "  selection = []\n",
        "  selection_num = 2 * int(len(population) * crossover_rate/2)\n",
        "  if method == \"Roulette\":\n",
        "    fitness = []\n",
        "    for chromosome in population:\n",
        "      fitness.append(1/get_fitness(chromosome))\n",
        "    k = 0\n",
        "    while len(selection) < selection_num:\n",
        "      k += 1\n",
        "      i = k % len(population)\n",
        "      r = random.uniform(0,1)\n",
        "      if r < fitness[i]/sum(fitness):\n",
        "        selection.append(population[i])\n",
        "\n",
        "  if method == \"Tournament\":\n",
        "    while len(selection) < selection_num:\n",
        "      n_select = random.choices(population, k =5)\n",
        "      n_select_fitness = []\n",
        "      for chromosome in n_select:\n",
        "        n_select_fitness.append(get_fitness(chromosome))\n",
        "      selection.append(n_select[np.argmin(n_select_fitness)])  \n",
        "  return selection"
      ],
      "execution_count": null,
      "outputs": []
    },
    {
      "cell_type": "code",
      "metadata": {
        "id": "w0P1GHkdi1p0"
      },
      "source": [
        "max_run = 30\n",
        "population_size = 100 \n",
        "mutation_rate = 0.01  \n",
        "crossover_rate = 0.8\n",
        "max_generation = 1000\n",
        "selection_method = \"Tournament\"\n",
        "crossover_method = \"Partially\"\n",
        "record = np.zeros((max_run, max_generation), dtype='int') ##紀錄信息\n",
        "\n",
        "for run in range(max_run):\n",
        "  population = []\n",
        "  for i in range(population_size):\n",
        "    chromosome = random.sample([x for x in range(51)],  k=51)\n",
        "    chromosome.append(chromosome[0])\n",
        "    population.append(chromosome)\n",
        "\n",
        "  for generation in range(max_generation):\n",
        "    selection = select(population, crossover_rate, method = selection_method)  ##根據crossover_rate選擇一定數量的染色體用來繁衍（可能重複）\n",
        "    nonselection = [x for x in population if x not in selection]  ##將沒被選上的拿出來\n",
        "    selection = random.sample(selection,  k=len(selection))  ##打亂順序繁衍\n",
        "    offspring = []\n",
        "    for j in range(int(len(selection)/2)):\n",
        "      offspring = offspring + crossover(selection[2*j], selection[2*j+1], mutation_rate, method = crossover_method)  ##將選中的染色體兩兩配對繁衍\n",
        "    population = nonselection[0:(100-len(offspring))] + offspring  ##由於選擇的時候可能重複，因此為了不讓總population超過100，刪去一部分沒被選上的染色體\n",
        "    population_fitness = []\n",
        "\n",
        "    for one in population:\n",
        "      population_fitness.append(get_fitness(one))\n",
        "    record[run, generation] = min(population_fitness)\n",
        "    print(run, generation, min(population_fitness))\n"
      ],
      "execution_count": null,
      "outputs": []
    },
    {
      "cell_type": "code",
      "metadata": {
        "colab": {
          "base_uri": "https://localhost:8080/",
          "height": 313
        },
        "id": "akZBjnOGqscp",
        "outputId": "acc63b8b-cd3a-48fa-cb7d-99dc19495600"
      },
      "source": [
        "average_record = np.mean(record, axis = 0) ##取30次平均\n",
        "title = 'GA convergence ' + selection_method + \" \"+ crossover_method\n",
        "plt.title(title)\n",
        "plt.xlabel('generation')\n",
        "plt.ylabel('fitness/distance')\n",
        "plt.plot(range(max_generation), average_record, '-')"
      ],
      "execution_count": null,
      "outputs": [
        {
          "output_type": "execute_result",
          "data": {
            "text/plain": [
              "[<matplotlib.lines.Line2D at 0x7f856db8ebe0>]"
            ]
          },
          "metadata": {
            "tags": []
          },
          "execution_count": 4
        },
        {
          "output_type": "display_data",
          "data": {
            "image/png": "[encoded data removed]",
            "text/plain": [
              "<Figure size 432x288 with 1 Axes>"
            ]
          },
          "metadata": {
            "tags": [],
            "needs_background": "light"
          }
        }
      ]
    }
  ]
}