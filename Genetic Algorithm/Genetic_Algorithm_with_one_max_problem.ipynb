{
  "nbformat": 4,
  "nbformat_minor": 0,
  "metadata": {
    "colab": {
      "name": "Genetic Algorithm.ipynb",
      "provenance": []
    },
    "kernelspec": {
      "name": "python3",
      "display_name": "Python 3"
    }
  },
  "cells": [
    {
      "cell_type": "code",
      "metadata": {
        "id": "0XF5u61em2tC"
      },
      "source": [
        "import math\n",
        "import random\n",
        "import numpy as np\n",
        "import matplotlib.pyplot as plt\n",
        "\n",
        "def change_bit(vector,n):  ##將第n位從0轉成1或者從1轉成0 \n",
        "  vector = list(vector)\n",
        "  vector[n] = str(int(not bool(int(vector[n]))))\n",
        "  return ''.join(vector)\n",
        "\n",
        "def get_fitness(vector):   ##返回1的數量\n",
        "  return vector.count(\"1\")\n",
        "\n",
        "def mutate(vector, mutation_rate):  ##每一位數都有mutation_rate的機率變異\n",
        "  for bit in range(100):\n",
        "    r = random.uniform(0,1)\n",
        "    if r < mutation_rate:\n",
        "      vector = change_bit(vector, bit)\n",
        "  return vector\n",
        "\n",
        "def crossover(parent_vector1, parent_vector2, mutation_rate):  ##結合兩個父母的染色體，拆的地方是隨機的\n",
        "  seperate_line = random.randint(0,99)\n",
        "  offspring1 = parent_vector1[:seperate_line] + parent_vector2[seperate_line:]\n",
        "  offspring2 = parent_vector2[:seperate_line] + parent_vector1[seperate_line:]\n",
        "  return [mutate(offspring1, mutation_rate), mutate(offspring2, mutation_rate)]\n",
        "\n",
        "def select(population, crossover_rate, method = \"Tournament\"):  ##根據Roulette wheel selection或者Tournament selection的方法選擇可以繁衍的染色體\n",
        "  selection = []\n",
        "  selection_num = 2 * int(len(population) * crossover_rate/2)\n",
        "  if method == \"Roulette\":\n",
        "    fitness = []\n",
        "    for chromosome in population:\n",
        "      fitness.append(get_fitness(chromosome))\n",
        "    k = 0\n",
        "    while len(selection) < selection_num:\n",
        "      k += 1\n",
        "      i = k % len(population)\n",
        "      r = random.uniform(0,1)\n",
        "      if r < fitness[i]/sum(fitness):\n",
        "        selection.append(population[i])\n",
        "\n",
        "  if method == \"Tournament\":\n",
        "    while len(selection) < selection_num:\n",
        "      n_select = random.choices(population, k =5)\n",
        "      n_select_fitness = []\n",
        "      for chromosome in n_select:\n",
        "        n_select_fitness.append(get_fitness(chromosome))\n",
        "      selection.append(n_select[np.argmax(n_select_fitness)])  \n",
        "  return selection"
      ],
      "execution_count": null,
      "outputs": []
    },
    {
      "cell_type": "code",
      "metadata": {
        "id": "dGlcuuaOolKc"
      },
      "source": [
        "max_run = 30  \n",
        "population_size = 100 \n",
        "mutation_rate = 0.01  \n",
        "crossover_rate = 0.8\n",
        "max_generation = 100\n",
        "shortest_distance = np.Inf  ##最短距離初始化\n",
        "record = np.zeros((max_run, max_generation), dtype='int') ##紀錄信息\n",
        "\n",
        "for run in range(max_run):\n",
        "  population = []\n",
        "  for i in range(population_size):\n",
        "    population.append(bin(random.randint(0,int(\"1\"*100, 2)))[2:].zfill(100))  ##隨機生成一定數量的個染色體\n",
        "  for generation in range(max_generation):\n",
        "    selection = select(population, crossover_rate, method=\"Roulette\")  ##根據crossover_rate選擇一定數量的染色體用來繁衍（可能重複）\n",
        "    nonselection = [x for x in population if x not in selection]  ##將沒被選上的拿出來\n",
        "    selection = random.sample(selection,  k=len(selection))  ##打亂順序繁衍\n",
        "    offspring = []\n",
        "    for j in range(int(len(selection)/2)):\n",
        "      offspring = offspring + crossover(selection[2*j], selection[2*j+1], mutation_rate)  ##將選中的染色體兩兩配對繁衍\n",
        "    population = random.sample(nonselection,  k=len(nonselection))[:100-len(offspring)] + offspring  ##由於選擇的時候可能重複，因此為了不讓總population超過100，刪去一部分沒被選上的染色體\n",
        "    population_fitness = []\n",
        "    for one in population:\n",
        "      population_fitness.append(get_fitness(one))\n",
        "    record[run, generation] = max(population_fitness)\n",
        "    print(run, generation, max(population_fitness))"
      ],
      "execution_count": null,
      "outputs": []
    },
    {
      "cell_type": "code",
      "metadata": {
        "id": "R5QA1fqsq-um",
        "colab": {
          "base_uri": "https://localhost:8080/",
          "height": 312
        },
        "outputId": "445e4f5e-e504-4c3b-ab03-8b27f3c2f4e4"
      },
      "source": [
        "average_record = np.mean(record, axis = 0) ##取30次平均\n",
        "plt.title('GA convergence (Roulette selection)')\n",
        "plt.xlabel('generation')\n",
        "plt.ylabel('fitness')\n",
        "plt.plot(range(max_generation), average_record, '-') ##畫出收斂圖"
      ],
      "execution_count": null,
      "outputs": [
        {
          "output_type": "execute_result",
          "data": {
            "text/plain": [
              "[<matplotlib.lines.Line2D at 0x7fa290ea54a8>]"
            ]
          },
          "metadata": {
            "tags": []
          },
          "execution_count": 5
        },
        {
          "output_type": "display_data",
          "data": {
            "image/png": "[encoded data removed]",
            "text/plain": [
              "<Figure size 432x288 with 1 Axes>"
            ]
          },
          "metadata": {
            "tags": [],
            "needs_background": "light"
          }
        }
      ]
    }
  ]
}