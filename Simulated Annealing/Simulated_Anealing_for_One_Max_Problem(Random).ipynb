{
  "nbformat": 4,
  "nbformat_minor": 0,
  "metadata": {
    "colab": {
      "name": "Simulated Anealing for One-Max Problem(Random).ipynb",
      "provenance": [],
      "collapsed_sections": []
    },
    "kernelspec": {
      "name": "python3",
      "display_name": "Python 3"
    }
  },
  "cells": [
    {
      "cell_type": "code",
      "metadata": {
        "id": "2sfFwRMan2tx"
      },
      "source": [
        "import math\n",
        "import random\n",
        "import numpy as np\n",
        "import matplotlib.pyplot as plt\n",
        "\n",
        "def change_bit(vector,n):  ##將第n位從0轉成1或者從1轉成0 \n",
        "  vector = list(vector)\n",
        "  vector[n] = str(int(not bool(int(vector[n]))))\n",
        "  return ''.join(vector)\n",
        "\n",
        "def return_value(vector):  ##隨機選擇1位轉換然後返回值\n",
        "  bit = random.randint(0,99)\n",
        "  return change_bit(vector, bit)\n",
        "\n",
        "def evaluate(vector1, vector2): \n",
        "    return vector1.count(\"1\") <= vector2.count(\"1\") ##判斷新的solution是否好過當前的最優解\n",
        "\n",
        "def p_alpha(new_solution, old_solution, psi, maximum = True): #計算接受概率\n",
        "  if (maximum and (not evaluate(new_solution, old_solution))) or ((not maximum) and evaluate(new_solution, old_solution)):\n",
        "    return 1\n",
        "  else:\n",
        "    return math.exp((2 * maximum - 1)*(new_solution.count(\"1\") - old_solution.count(\"1\"))/psi)\n",
        "\n",
        "def anealing(psi): ##降溫\n",
        "  return 0.9 * psi\n"
      ],
      "execution_count": null,
      "outputs": []
    },
    {
      "cell_type": "code",
      "metadata": {
        "id": "3zubwUQuxgsA"
      },
      "source": [
        "max_iteration = 1000\n",
        "max_run = 30\n",
        "record = np.zeros((max_run, max_iteration), dtype='int') ##紀錄信息\n",
        "\n",
        "for i in range(max_run):\n",
        "  psi = 30\n",
        "  vector = bin(random.randint(0,int(\"1\"*100, 2)))[2:].zfill(100) ##隨機生成數字轉換成2進制作為初始變量\n",
        "  for j in range(max_iteration):\n",
        "    r = random.uniform(0,1)\n",
        "    new_solution = return_value(vector)\n",
        "    if r < p_alpha(new_solution, vector, psi, maximum = True): \n",
        "      vector = new_solution\n",
        "    record[i,j] = vector.count(\"1\")\n",
        "    psi = anealing(psi)"
      ],
      "execution_count": null,
      "outputs": []
    },
    {
      "cell_type": "code",
      "metadata": {
        "id": "CGWPc3kFxthR",
        "colab": {
          "base_uri": "https://localhost:8080/",
          "height": 313
        },
        "outputId": "61b10117-0aa2-46c1-a1a2-23072463a406"
      },
      "source": [
        "average_record = np.mean(record, axis = 0) ##取30次平均\n",
        "plt.title('SA convergence')\n",
        "plt.xlabel('iteration')\n",
        "plt.ylabel('numbers of 1')\n",
        "plt.plot(range(max_iteration), average_record, '-') ##畫出收斂圖"
      ],
      "execution_count": null,
      "outputs": [
        {
          "output_type": "execute_result",
          "data": {
            "text/plain": [
              "[<matplotlib.lines.Line2D at 0x7fabe9d9f6d8>]"
            ]
          },
          "metadata": {
            "tags": []
          },
          "execution_count": 3
        },
        {
          "output_type": "display_data",
          "data": {
            "image/png": "[encoded data removed]",
            "text/plain": [
              "<Figure size 432x288 with 1 Axes>"
            ]
          },
          "metadata": {
            "tags": [],
            "needs_background": "light"
          }
        }
      ]
    }
  ]
}